{
 "cells": [
  {
   "cell_type": "code",
   "execution_count": null,
   "metadata": {
    "collapsed": true
   },
   "outputs": [],
   "source": []
  },
  {
   "cell_type": "code",
   "execution_count": null,
   "metadata": {},
   "outputs": [],
   "source": [
    "import json\n",
    "\n",
    "s = json.loads(structure)\n",
    "\n",
    "def generl(structure):\n",
    "    out = []\n",
    "    \n",
    "    for block in structure:\n",
    "        if isinstance(block, str):\n",
    "            out.append(block)\n",
    "        elif block[0] == 'python':\n",
    "            pyout = []\n",
    "            for b in block[1]:\n",
    "                \n",
    "            \n",
    "    return out\n",
    "\n",
    "def generate(structure):\n",
    "    dependenciess = None\n",
    "    erlang = None\n",
    "    \n",
    "    for block in structure:\n",
    "        if block[0] == 'dependencies':\n",
    "            dependencies = block[1]\n",
    "        elif block[0] == 'erlang':\n",
    "            erlang = generl(block[1])\n",
    "            \n",
    "    return {'dependencies': dependencies, 'erlang': erlang}\n",
    "\n",
    "s = generate(s)\n",
    "print(''.join(s['erlang']))"
   ]
  },
  {
   "cell_type": "code",
   "execution_count": null,
   "metadata": {},
   "outputs": [],
   "source": [
    "s = \"\"\" \n",
    "\n",
    "     print(\"HELLO\" + arg[\"8852515420282780905\"]\n",
    "     \n",
    "     )\n",
    "    o\"\"\"\n",
    "\n",
    "match = re.match(\"(\\s*\\n)*\", s)\n",
    "indent = len(match.group())\n",
    "\n",
    "s = s[indent:]\n",
    "for i in range(len(s)):\n",
    "    if s[i] != \" \":\n",
    "        break\n",
    "\n",
    "s[i:]\n"
   ]
  },
  {
   "cell_type": "code",
   "execution_count": null,
   "metadata": {},
   "outputs": [],
   "source": [
    "import asyncio"
   ]
  },
  {
   "cell_type": "code",
   "execution_count": null,
   "metadata": {},
   "outputs": [],
   "source": [
    "def gen(n):\n",
    "    s = yield\n",
    "    for i in range(n):\n",
    "        s = (yield) + (yield)\n",
    "        print(s)\n",
    "    \n",
    "g = gen(5)\n",
    "print(g.send(None))\n",
    "print(g.send(5))\n",
    "print(g.send(5))\n",
    "print(g.send(5))\n",
    "print(g.send(5))\n",
    "print(g.send(5))"
   ]
  },
  {
   "cell_type": "code",
   "execution_count": null,
   "metadata": {
    "collapsed": true
   },
   "outputs": [],
   "source": []
  },
  {
   "cell_type": "code",
   "execution_count": null,
   "metadata": {
    "collapsed": true
   },
   "outputs": [],
   "source": []
  },
  {
   "cell_type": "code",
   "execution_count": null,
   "metadata": {
    "collapsed": true
   },
   "outputs": [],
   "source": []
  },
  {
   "cell_type": "code",
   "execution_count": null,
   "metadata": {
    "collapsed": true
   },
   "outputs": [],
   "source": []
  },
  {
   "cell_type": "code",
   "execution_count": null,
   "metadata": {
    "collapsed": true
   },
   "outputs": [],
   "source": []
  },
  {
   "cell_type": "code",
   "execution_count": null,
   "metadata": {
    "collapsed": true
   },
   "outputs": [],
   "source": []
  },
  {
   "cell_type": "code",
   "execution_count": null,
   "metadata": {
    "collapsed": true
   },
   "outputs": [],
   "source": []
  },
  {
   "cell_type": "code",
   "execution_count": null,
   "metadata": {
    "collapsed": true
   },
   "outputs": [],
   "source": []
  },
  {
   "cell_type": "code",
   "execution_count": null,
   "metadata": {
    "collapsed": true
   },
   "outputs": [],
   "source": []
  },
  {
   "cell_type": "code",
   "execution_count": null,
   "metadata": {
    "collapsed": true
   },
   "outputs": [],
   "source": []
  },
  {
   "cell_type": "code",
   "execution_count": null,
   "metadata": {
    "collapsed": true
   },
   "outputs": [],
   "source": []
  },
  {
   "cell_type": "code",
   "execution_count": null,
   "metadata": {
    "collapsed": true
   },
   "outputs": [],
   "source": []
  },
  {
   "cell_type": "code",
   "execution_count": null,
   "metadata": {},
   "outputs": [],
   "source": [
    "s.replace(\"\\n\" + \" \"*4, \"f\")\n",
    "s[:15]"
   ]
  },
  {
   "cell_type": "code",
   "execution_count": null,
   "metadata": {
    "collapsed": true
   },
   "outputs": [],
   "source": [
    "structure = r\"\"\"[\n",
    "  [\n",
    "    \"dependencies\",\n",
    "    [\n",
    "      \"\\n    RUN pip install boto3\\n\"\n",
    "    ]\n",
    "  ],\n",
    "  \"\\n\\n\",\n",
    "  [\n",
    "    \"erlang\",\n",
    "    [\n",
    "      \"\\n\\n-module(stack_manager).\\n\\n-export([system_copy/2, stack_create/2]).\\n\\nstack_create(Variable) ->\\n    \",\n",
    "      [\n",
    "        \"python\",\n",
    "        [\n",
    "          \"\\n    print(\\\"HELLO\\\" + \",\n",
    "          [\n",
    "            \"erlang\",\n",
    "            [\n",
    "              \"Variable\"\n",
    "            ]\n",
    "          ],\n",
    "          \")\\n    \"\n",
    "        ]\n",
    "      ],\n",
    "      \".\\n\\nsystem_copy() ->\\n    {}.\\n\\n\"\n",
    "    ]\n",
    "  ],\n",
    "  \"\\n\"\n",
    "]\"\"\""
   ]
  },
  {
   "cell_type": "code",
   "execution_count": null,
   "metadata": {
    "collapsed": true
   },
   "outputs": [],
   "source": []
  }
 ],
 "metadata": {
  "kernelspec": {
   "display_name": "Python 3",
   "language": "python",
   "name": "python3"
  },
  "language_info": {
   "codemirror_mode": {
    "name": "ipython",
    "version": 3
   },
   "file_extension": ".py",
   "mimetype": "text/x-python",
   "name": "python",
   "nbconvert_exporter": "python",
   "pygments_lexer": "ipython3",
   "version": "3.6.0"
  }
 },
 "nbformat": 4,
 "nbformat_minor": 2
}
